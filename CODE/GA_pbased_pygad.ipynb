{
 "cells": [
  {
   "cell_type": "markdown",
   "metadata": {},
   "source": [
    "논문 : [ Python 을 사용한 유전 알고리즘 구현 ]  \n",
    "http://www.koreascience.kr/article/CFKO200533239321725.pdf  \n",
    "코드 구현해보기"
   ]
  },
  {
   "cell_type": "code",
   "execution_count": 1,
   "metadata": {},
   "outputs": [],
   "source": [
    "import pandas as pd\n",
    "import numpy as np\n",
    "import random, copy\n",
    "import operator \n",
    "from functools import reduce"
   ]
  },
  {
   "cell_type": "code",
   "execution_count": 2,
   "metadata": {},
   "outputs": [],
   "source": [
    "# ===초기 모집단 생성===\n",
    "\n",
    "sample_chrm = list(range(1,10)) # a feasible solution \n",
    "init_population = [ ] # an empty list \n",
    "random.seed(0) \n",
    "population_size = 5 \n",
    "\n",
    "for i in range( population_size ): \n",
    "    new_chrm = copy.copy( sample_chrm ) \n",
    "    random.shuffle(new_chrm) \n",
    "    init_population.append( new_chrm) "
   ]
  },
  {
   "cell_type": "code",
   "execution_count": 3,
   "metadata": {},
   "outputs": [
    {
     "data": {
      "text/plain": [
       "[[8, 6, 2, 4, 5, 3, 1, 9, 7],\n",
       " [3, 1, 4, 9, 7, 2, 5, 6, 8],\n",
       " [3, 1, 4, 9, 7, 6, 8, 5, 2],\n",
       " [8, 7, 9, 3, 1, 5, 4, 6, 2],\n",
       " [2, 7, 6, 1, 3, 5, 9, 8, 4]]"
      ]
     },
     "execution_count": 3,
     "metadata": {},
     "output_type": "execute_result"
    }
   ],
   "source": [
    "init_population"
   ]
  },
  {
   "cell_type": "code",
   "execution_count": 11,
   "metadata": {},
   "outputs": [
    {
     "data": {
      "text/plain": [
       "[[0, 0, 0, 0, 0, 0, 0, 0, 0, 0],\n",
       " [0, 0, 1, 5, 6, 9, 2, 3, 7, 8],\n",
       " [0, 1, 0, 8, 6, 2, 4, 7, 9, 5],\n",
       " [0, 5, 8, 0, 3, 2, 7, 6, 8, 9],\n",
       " [0, 6, 6, 3, 0, 9, 7, 4, 1, 5],\n",
       " [0, 9, 2, 2, 9, 0, 1, 4, 7, 3],\n",
       " [0, 2, 4, 7, 7, 1, 0, 7, 4, 1],\n",
       " [0, 3, 7, 6, 4, 4, 7, 0, 8, 3],\n",
       " [0, 7, 9, 8, 1, 7, 4, 8, 0, 1],\n",
       " [0, 8, 5, 9, 5, 3, 1, 3, 1, 0]]"
      ]
     },
     "execution_count": 11,
     "metadata": {},
     "output_type": "execute_result"
    }
   ],
   "source": [
    "# ===적응도 평가===\n",
    "\n",
    "#cost matrix 정의\n",
    "cost_matrix = [] \n",
    "cost_matrix.append([0,0,0,0,0,0,0,0,0,0]) \n",
    "cost_matrix.append([0,0,1,5,6,9,2,3,7,8]) \n",
    "cost_matrix.append([0,1,0,8,6,2,4,7,9,5]) \n",
    "cost_matrix.append([0,5,8,0,3,2,7,6,8,9]) \n",
    "cost_matrix.append([0,6,6,3,0,9,7,4,1,5]) \n",
    "cost_matrix.append([0,9,2,2,9,0,1,4,7,3]) \n",
    "cost_matrix.append([0,2,4,7,7,1,0,7,4,1]) \n",
    "cost_matrix.append([0,3,7,6,4,4,7,0,8,3]) \n",
    "cost_matrix.append([0,7,9,8,1,7,4,8,0,1]) \n",
    "cost_matrix.append([0,8,5,9,5,3,1,3,1,0])\n",
    "cost_matrix"
   ]
  },
  {
   "cell_type": "code",
   "execution_count": 15,
   "metadata": {},
   "outputs": [
    {
     "name": "stdout",
     "output_type": "stream",
     "text": [
      "44\n"
     ]
    }
   ],
   "source": [
    "#비용 계산\n",
    "chrm = [4, 1, 5, 6, 9, 2, 3, 7, 8] \n",
    "cost = 0 \n",
    "last_city = chrm[0] \n",
    "for current_city in chrm: \n",
    "    cost += cost_matrix[last_city][current_city] \n",
    "    last_city = current_city\n",
    " \n",
    "print(cost)"
   ]
  },
  {
   "cell_type": "code",
   "execution_count": 21,
   "metadata": {},
   "outputs": [
    {
     "data": {
      "text/plain": [
       "[0.12, 0.3, 0.38, 0.44, 0.54, 0.7000000000000001, 0.76, 0.88, 0.94, 1.0]"
      ]
     },
     "execution_count": 21,
     "metadata": {},
     "output_type": "execute_result"
    }
   ],
   "source": [
    "# ===선별===\n",
    "\n",
    "#누적확률 리스트 생성\n",
    "fitness_list = [6.0, 9.0, 4.0, 3.0, 5.0, 8.0, 3.0, 6.0, 3.0, 3.0] \n",
    "fitness_sum = reduce( operator.add, fitness_list) #누적집계\n",
    "prob_list = map( (lambda x: x/fitness_sum), fitness_list) \n",
    "cum_value = 0 \n",
    "cum_prob_list = [ ] \n",
    "for prob in prob_list: \n",
    "    cum_prob_list.append( cum_value + prob ) \n",
    "    cum_value += prob \n",
    "cum_prob_list[-1] = 1.0 #roundoff error 보정\n",
    "\n",
    "cum_prob_list"
   ]
  },
  {
   "cell_type": "code",
   "execution_count": 35,
   "metadata": {},
   "outputs": [
    {
     "data": {
      "text/plain": [
       "[8,\n",
       " 5,\n",
       " 0,\n",
       " 8,\n",
       " 7,\n",
       " 0,\n",
       " 1,\n",
       " 5,\n",
       " 7,\n",
       " 5,\n",
       " 0,\n",
       " 1,\n",
       " 7,\n",
       " 0,\n",
       " 1,\n",
       " 1,\n",
       " 2,\n",
       " 2,\n",
       " 5,\n",
       " 7,\n",
       " 7,\n",
       " 9,\n",
       " 5,\n",
       " 4,\n",
       " 5,\n",
       " 4,\n",
       " 3,\n",
       " 7,\n",
       " 1,\n",
       " 2,\n",
       " 1,\n",
       " 1,\n",
       " 1,\n",
       " 2,\n",
       " 2,\n",
       " 0,\n",
       " 7,\n",
       " 0,\n",
       " 1,\n",
       " 1,\n",
       " 5,\n",
       " 2,\n",
       " 9,\n",
       " 1,\n",
       " 0,\n",
       " 6,\n",
       " 8,\n",
       " 2,\n",
       " 7,\n",
       " 6,\n",
       " 2,\n",
       " 7,\n",
       " 1,\n",
       " 0,\n",
       " 5,\n",
       " 4,\n",
       " 2,\n",
       " 7,\n",
       " 7,\n",
       " 1,\n",
       " 0,\n",
       " 4,\n",
       " 0,\n",
       " 2,\n",
       " 5,\n",
       " 1,\n",
       " 1,\n",
       " 5,\n",
       " 7,\n",
       " 9,\n",
       " 0,\n",
       " 7,\n",
       " 1,\n",
       " 1,\n",
       " 3,\n",
       " 0,\n",
       " 5,\n",
       " 1,\n",
       " 8,\n",
       " 7,\n",
       " 6,\n",
       " 1,\n",
       " 0,\n",
       " 1,\n",
       " 9,\n",
       " 5,\n",
       " 1,\n",
       " 1,\n",
       " 0,\n",
       " 7,\n",
       " 7,\n",
       " 0,\n",
       " 4,\n",
       " 6,\n",
       " 1,\n",
       " 4,\n",
       " 1,\n",
       " 5,\n",
       " 9,\n",
       " 7]"
      ]
     },
     "execution_count": 35,
     "metadata": {},
     "output_type": "execute_result"
    }
   ],
   "source": [
    "#개체 선택(by 선형탐색)\n",
    "selected = [] \n",
    "size = 100 \n",
    "for i in range(size): \n",
    "    rn = random.random() \n",
    "    for j, cum_prob in enumerate(cum_prob_list): \n",
    "        if rn<= cum_prob: \n",
    "            selected.append( j) \n",
    "            break\n",
    "        \n",
    "selected"
   ]
  },
  {
   "cell_type": "code",
   "execution_count": 36,
   "metadata": {},
   "outputs": [
    {
     "data": {
      "text/plain": [
       "1    24\n",
       "7    17\n",
       "0    15\n",
       "5    13\n",
       "2    10\n",
       "4     6\n",
       "9     5\n",
       "8     4\n",
       "6     4\n",
       "3     2\n",
       "dtype: int64"
      ]
     },
     "execution_count": 36,
     "metadata": {},
     "output_type": "execute_result"
    }
   ],
   "source": [
    "selected_s = pd.Series(selected)\n",
    "selected_s.value_counts()"
   ]
  },
  {
   "cell_type": "code",
   "execution_count": 38,
   "metadata": {},
   "outputs": [
    {
     "name": "stdout",
     "output_type": "stream",
     "text": [
      "[1, 0, 1, 0, 1, 0, 1, 1]\n",
      "[0, 1, 0, 1, 0, 1, 1, 1]\n"
     ]
    }
   ],
   "source": [
    "# ===교차===\n",
    "\n",
    "#일점교차\n",
    "parent1 = [ 1, 0, 1, 1, 0, 1, 1, 1 ] \n",
    "parent2 = [ 0, 1, 0, 0, 1, 0, 1, 1 ] \n",
    "pt = 3 # crossover point \n",
    "offspring1 = parent1[:pt] + parent2[pt:] \n",
    "offspring2 = parent2[:pt] + parent1[pt:]\n",
    "print(offspring1)\n",
    "print(offspring2)"
   ]
  },
  {
   "cell_type": "code",
   "execution_count": 40,
   "metadata": {},
   "outputs": [
    {
     "name": "stdout",
     "output_type": "stream",
     "text": [
      "[1, 0, 0, 0, 1, 1, 1, 1]\n",
      "[0, 1, 1, 1, 0, 0, 1, 1]\n"
     ]
    }
   ],
   "source": [
    "#이점교차\n",
    "pt1 = 2 # crossover point 1 \n",
    "pt2 = 5 # crossover point 2 \n",
    "offspring1 = parent1[:pt1] + parent2[pt1:pt2] + parent1[pt2:] \n",
    "offspring2 = parent2[:pt1] + parent1[pt1:pt2] + parent2[pt2:]\n",
    "print(offspring1)\n",
    "print(offspring2)"
   ]
  },
  {
   "cell_type": "code",
   "execution_count": 43,
   "metadata": {},
   "outputs": [
    {
     "name": "stdout",
     "output_type": "stream",
     "text": [
      "[8, 2, 5, 6, 9, 4, 7, 3, 1]\n",
      "[5, 9, 8, 6, 2, 3, 7, 4, 1]\n"
     ]
    }
   ],
   "source": [
    "#순서교차\n",
    "parent1 = [4, 1, 5, 6, 9, 2, 3, 7, 8] \n",
    "parent2 = [3, 1, 8, 6, 2, 4, 7, 9, 5]\n",
    " \n",
    "pt1 = 2 # crossover point 1 \n",
    "pt2 = 5 # crossover point 2 \n",
    "latter_length = len(parent1) - pt2 \n",
    "\n",
    "prt1_mid = parent1[pt1:pt2] \n",
    "prt2_mid = parent2[pt1:pt2] \n",
    "\n",
    "prt1_reordered = parent1[pt2:] + parent1[:pt2] \n",
    "prt2_reordered = parent2[pt2:] + parent2[:pt2] \n",
    "\n",
    "prt1_reord_filtered = list(filter( lambda x: x not in prt2_mid, prt1_reordered )) \n",
    "prt2_reord_filtered = list(filter( lambda x: x not in prt1_mid, prt2_reordered )) \n",
    "\n",
    "offspring1 = prt2_reord_filtered[-pt1:] + prt1_mid + prt2_reord_filtered[:latter_length] \n",
    "offspring2 = prt1_reord_filtered[-pt1:] + prt2_mid + prt1_reord_filtered[:latter_length] \n",
    "\n",
    "print(offspring1)\n",
    "print(offspring2)"
   ]
  },
  {
   "cell_type": "code",
   "execution_count": 47,
   "metadata": {},
   "outputs": [
    {
     "name": "stdout",
     "output_type": "stream",
     "text": [
      "8 2 [4, 1, 8, 5, 6, 9, 2, 3, 7]\n"
     ]
    }
   ],
   "source": [
    "# ===돌연변이===\n",
    "\n",
    "#삽입\n",
    "chrm = [4, 1, 5, 6, 9, 2, 3, 7, 8] \n",
    "element_position = random.randint(0, len(chrm)-1 ) \n",
    "insert_position = random.randint(0, len(chrm)-2 ) \n",
    "element_value = chrm[element_position] \n",
    "del chrm[element_position] \n",
    "chrm.insert( insert_position, element_value )\n",
    "print(element_position, insert_position, chrm)"
   ]
  },
  {
   "cell_type": "code",
   "execution_count": 49,
   "metadata": {},
   "outputs": [
    {
     "name": "stdout",
     "output_type": "stream",
     "text": [
      "2 6 [4, 1, 3, 6, 9, 2, 5, 7, 8]\n"
     ]
    }
   ],
   "source": [
    "#교환\n",
    "chrm = [4, 1, 5, 6, 9, 2, 3, 7, 8] \n",
    "position1 = random.randint(0, len(chrm)-1 ) \n",
    "position2 = random.randint(0, len(chrm)-1 ) \n",
    "chrm[position1], chrm[position2] = chrm[position2], chrm[position1]\n",
    "print(position1, position2, chrm)"
   ]
  },
  {
   "cell_type": "markdown",
   "metadata": {},
   "source": [
    "---"
   ]
  },
  {
   "cell_type": "markdown",
   "metadata": {},
   "source": [
    "### PyGAD test"
   ]
  },
  {
   "cell_type": "markdown",
   "metadata": {},
   "source": [
    "PyGAD 로 아래 수식의 해를 최적화해보자.  \n",
    "y = f(w1:w6) = w1x1 + w2x2 + w3x3 + w4x4 + w5x5 + 6wx6  \n",
    "where (x1,x2,x3,x4,x5,x6)=(4,-2,3.5,5,-11,-4.7) and y=44 "
   ]
  },
  {
   "cell_type": "code",
   "execution_count": 12,
   "metadata": {},
   "outputs": [
    {
     "name": "stdout",
     "output_type": "stream",
     "text": [
      "Requirement already satisfied: pygad in /usr/local/lib/python3.6/dist-packages (2.17.0)\n",
      "Requirement already satisfied: numpy in /usr/local/lib/python3.6/dist-packages (from pygad) (1.19.5)\n",
      "Requirement already satisfied: matplotlib in /usr/local/lib/python3.6/dist-packages (from pygad) (3.3.4)\n",
      "Requirement already satisfied: cycler>=0.10 in /usr/local/lib/python3.6/dist-packages (from matplotlib->pygad) (0.10.0)\n",
      "Requirement already satisfied: python-dateutil>=2.1 in /usr/local/lib/python3.6/dist-packages (from matplotlib->pygad) (2.8.1)\n",
      "Requirement already satisfied: kiwisolver>=1.0.1 in /usr/local/lib/python3.6/dist-packages (from matplotlib->pygad) (1.3.1)\n",
      "Requirement already satisfied: pyparsing!=2.0.4,!=2.1.2,!=2.1.6,>=2.0.3 in /usr/local/lib/python3.6/dist-packages (from matplotlib->pygad) (2.4.7)\n",
      "Requirement already satisfied: pillow>=6.2.0 in /usr/local/lib/python3.6/dist-packages (from matplotlib->pygad) (8.2.0)\n",
      "Requirement already satisfied: six in /usr/local/lib/python3.6/dist-packages (from cycler>=0.10->matplotlib->pygad) (1.15.0)\n",
      "\u001b[33mWARNING: Running pip as root will break packages and permissions. You should install packages reliably by using venv: https://pip.pypa.io/warnings/venv\u001b[0m\n",
      "\u001b[33mWARNING: You are using pip version 21.1.1; however, version 21.3.1 is available.\n",
      "You should consider upgrading via the '/usr/bin/python3 -m pip install --upgrade pip' command.\u001b[0m\n",
      "Note: you may need to restart the kernel to use updated packages.\n"
     ]
    }
   ],
   "source": [
    "pip install pygad"
   ]
  },
  {
   "cell_type": "code",
   "execution_count": 13,
   "metadata": {},
   "outputs": [],
   "source": [
    "import warnings\n",
    "warnings.filterwarnings('ignore')"
   ]
  },
  {
   "cell_type": "code",
   "execution_count": 14,
   "metadata": {},
   "outputs": [
    {
     "data": {
      "image/png": "[encoded data removed]",
      "text/plain": [
       "<Figure size 432x288 with 1 Axes>"
      ]
     },
     "metadata": {
      "needs_background": "light"
     },
     "output_type": "display_data"
    },
    {
     "name": "stdout",
     "output_type": "stream",
     "text": [
      "Parameters of the best solution : [ 6.24625651  2.56263042  4.81673215  0.090953   -0.67066183  0.11446617]\n",
      "Fitness value of the best solution = 80.76345675803222\n",
      "Predicted output based on the best solution : 44.012381837530754\n"
     ]
    }
   ],
   "source": [
    "def fitness_func(solution, solution_idx):\n",
    "    output = numpy.sum(solution*function_inputs)\n",
    "    fitness = 1.0 / numpy.abs(output - desired_output)\n",
    "    return fitness\n",
    "\n",
    "fitness_function = fitness_func\n",
    "\n",
    "num_generations = 50 # Number of generations.\n",
    "num_parents_mating = 4 # Number of solutions to be selected as parents in the mating pool.\n",
    "\n",
    "sol_per_pop = 8 # Number of solutions in the population.\n",
    "num_genes = len(function_inputs)\n",
    "\n",
    "# 탐색공간\n",
    "init_range_low = -2\n",
    "init_range_high = 5\n",
    "\n",
    "parent_selection_type = \"sss\" # sss, rws, sus, rank, random, tournament\n",
    "                              # sss : steady-state selection\n",
    "keep_parents = 1 # Number of parents to keep in the current population\n",
    "\n",
    "crossover_type = \"single_point\"\n",
    "\n",
    "mutation_type = \"random\"\n",
    "mutation_percent_genes = 10\n",
    "\n",
    "ga_instance = pygad.GA(num_generations=num_generations,\n",
    "                       num_parents_mating=num_parents_mating,\n",
    "                       fitness_func=fitness_function,\n",
    "                       sol_per_pop=sol_per_pop,\n",
    "                       num_genes=num_genes,\n",
    "                       init_range_low=init_range_low,\n",
    "                       init_range_high=init_range_high,\n",
    "                       parent_selection_type=parent_selection_type,\n",
    "                       keep_parents=keep_parents,\n",
    "                       crossover_type=crossover_type,\n",
    "                       mutation_type=mutation_type,\n",
    "                       mutation_percent_genes=mutation_percent_genes)\n",
    "\n",
    "\n",
    "ga_instance.run()\n",
    "ga_instance.plot_fitness()\n",
    "\n",
    "solution, solution_fitness, solution_idx = ga_instance.best_solution()\n",
    "print(\"Parameters of the best solution : {solution}\".format(solution=solution))\n",
    "print(\"Fitness value of the best solution = {solution_fitness}\".format(solution_fitness=solution_fitness))\n",
    "\n",
    "prediction = numpy.sum(numpy.array(function_inputs)*solution)\n",
    "print(\"Predicted output based on the best solution : {prediction}\".format(prediction=prediction))"
   ]
  },
  {
   "cell_type": "code",
   "execution_count": null,
   "metadata": {},
   "outputs": [],
   "source": []
  },
  {
   "cell_type": "code",
   "execution_count": null,
   "metadata": {},
   "outputs": [],
   "source": []
  }
 ],
 "metadata": {
  "kernelspec": {
   "display_name": "Python 3.6.9 64-bit",
   "language": "python",
   "name": "python3"
  },
  "language_info": {
   "codemirror_mode": {
    "name": "ipython",
    "version": 3
   },
   "file_extension": ".py",
   "mimetype": "text/x-python",
   "name": "python",
   "nbconvert_exporter": "python",
   "pygments_lexer": "ipython3",
   "version": "3.6.9"
  },
  "orig_nbformat": 4,
  "vscode": {
   "interpreter": {
    "hash": "31f2aee4e71d21fbe5cf8b01ff0e069b9275f58929596ceb00d14d90e3e16cd6"
   }
  }
 },
 "nbformat": 4,
 "nbformat_minor": 2
}
